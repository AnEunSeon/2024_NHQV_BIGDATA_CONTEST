{
 "cells": [
  {
   "cell_type": "code",
   "execution_count": null,
   "id": "f1201786",
   "metadata": {},
   "outputs": [],
   "source": [
    "import numpy as np\n",
    "import pandas as pd"
   ]
  },
  {
   "cell_type": "code",
   "execution_count": null,
   "id": "7cd37dfb",
   "metadata": {},
   "outputs": [],
   "source": [
    "import warnings\n",
    "warnings.filterwarnings('ignore')"
   ]
  },
  {
   "cell_type": "code",
   "execution_count": null,
   "id": "3eb04eae",
   "metadata": {},
   "outputs": [],
   "source": [
    "#데이터 로드\n",
    "stock_df=pd.read_csv('/NW_FC_STK_IEM_IFO.csv',encoding='cp949')\n",
    "stock_info=pd.read_csv('/STK_DT_QUT.csv',encoding='cp949')\n",
    "trade_info=pd.read_csv('/STK_DD_IFO.csv',encoding='cp949')\n",
    "cust=pd.read_csv('/CUS_TP_IFO.csv',encoding='cp949')"
   ]
  },
  {
   "cell_type": "code",
   "execution_count": null,
   "id": "05525d17",
   "metadata": {},
   "outputs": [],
   "source": [
    "#종목명 공백 제거\n",
    "stock_info['tck_iem_cd']=stock_info['tck_iem_cd'].str.rstrip()\n",
    "trade_info['tck_iem_cd']=trade_info['tck_iem_cd'].str.rstrip()\n",
    "cust['tck_iem_cd']=cust['tck_iem_cd'].str.rstrip()"
   ]
  },
  {
   "cell_type": "code",
   "execution_count": null,
   "id": "1fd907a6",
   "metadata": {},
   "outputs": [],
   "source": [
    "#주식 종목 & 시가총액이 0이 아닌 종목 추출\n",
    "stock_df=stock_df[(stock_df['stk_etf_dit_cd']=='주식')&(stock_df['mkt_pr_tot_amt']!=0)]\n",
    "stock_lst1=list(stock_df['tck_iem_cd'].unique())"
   ]
  },
  {
   "cell_type": "code",
   "execution_count": null,
   "id": "84cc1443",
   "metadata": {},
   "outputs": [],
   "source": [
    "#기준일자 날짜형으로 변환\n",
    "from datetime import datetime\n",
    "stock_info['bse_dt']=pd.to_datetime(stock_info['bse_dt'],format='%Y%m%d')\n",
    "trade_info['bse_dt']=pd.to_datetime(trade_info['bse_dt'],format='%Y%m%d')"
   ]
  },
  {
   "cell_type": "code",
   "execution_count": null,
   "id": "6c8f3627",
   "metadata": {},
   "outputs": [],
   "source": [
    "#이상치 제거 (수익률 200 이상)\n",
    "trade_info=trade_info[trade_info['tco_avg_pft_rt']<=200]"
   ]
  },
  {
   "cell_type": "code",
   "execution_count": null,
   "id": "f4168495",
   "metadata": {},
   "outputs": [],
   "source": [
    "#종목일자별시세 데이터 - 3개월동안 정보가 모두 존재하는 주식 종목만 추출\n",
    "cnt=stock_info.groupby('tck_iem_cd')['bse_dt'].count()\n",
    "cnt=cnt.reset_index()\n",
    "cnt=cnt[cnt['bse_dt']==63]\n",
    "stock_lst2=list(cnt['tck_iem_cd'].unique())"
   ]
  },
  {
   "cell_type": "code",
   "execution_count": null,
   "id": "09b7ddcb",
   "metadata": {},
   "outputs": [],
   "source": [
    "#주식일별정보 데이터 - 3개월동안 정보가 모두 존재하는 주식 종목만 추출\n",
    "cnt=trade_info.groupby('tck_iem_cd')['bse_dt'].count()\n",
    "cnt=cnt.reset_index()\n",
    "cnt=cnt[cnt['bse_dt']==64]\n",
    "stock_lst3=list(cnt['tck_iem_cd'].unique())"
   ]
  },
  {
   "cell_type": "code",
   "execution_count": null,
   "id": "6654caf2",
   "metadata": {},
   "outputs": [],
   "source": [
    "#세 개의 데이터셋에서 중복되는 종목을 분석 대상으로 선정\n",
    "stock_lst=list(set(stock_lst1)&set(stock_lst2)&set(stock_lst3))"
   ]
  },
  {
   "cell_type": "code",
   "execution_count": null,
   "id": "364260de",
   "metadata": {},
   "outputs": [],
   "source": [
    "stock_df=stock_df[stock_df['tck_iem_cd'].isin(stock_lst)]\n",
    "stock_info=stock_info[stock_info['tck_iem_cd'].isin(stock_lst)]\n",
    "stock_info.sort_values(['tck_iem_cd','bse_dt'],inplace=True)\n",
    "trade_info=trade_info[trade_info['tck_iem_cd'].isin(stock_lst)]\n",
    "trade_info.sort_values(['tck_iem_cd','bse_dt'],inplace=True)\n",
    "#NH데이터는 정보가 24/08/27 데이터가 있어서 제거해 분석 기간 통일 \n",
    "trade_info=trade_info[trade_info['bse_dt']!='2024-08-27T00:00:00.000000000']"
   ]
  },
  {
   "cell_type": "code",
   "execution_count": null,
   "id": "bd33666b",
   "metadata": {},
   "outputs": [],
   "source": [
    "#가격 변동성을 확인하기 위한 일일변동폭 파생변수 생성\n",
    "stock_info['daily_mov']=(stock_info['iem_hi_pr']-stock_info['iem_low_pr'])"
   ]
  },
  {
   "cell_type": "code",
   "execution_count": null,
   "id": "5dd3e71a",
   "metadata": {},
   "outputs": [],
   "source": [
    "#분석에 사용할 변수 선택 \n",
    "stock_df=stock_df[['tck_iem_cd','ltg_tot_stk_qty','mkt_pr_tot_amt']]\n",
    "stock_info.drop('sby_bse_xcg_rt',axis=1,inplace=True)\n",
    "trade_info.drop(['tco_avg_hld_te_dd_cnt','dist_hnk_pct10_nmv','dist_hnk_pct30_nmv','dist_hnk_pct50_nmv','dist_hnk_pct70_nmv','dist_hnk_pct90_nmv','bse_end_pr'],axis=1,inplace=True)"
   ]
  },
  {
   "cell_type": "code",
   "execution_count": null,
   "id": "5e0e55ad",
   "metadata": {},
   "outputs": [],
   "source": [
    "#상관관계 plot \n",
    "corr_df=pd.merge(stock_info,trade_info,on=['bse_dt','tck_iem_cd'],how='inner')\n",
    "corr_df.drop('bse_dt',axis=1,inplace=True)\n",
    "corr_df=corr_df.groupby('tck_iem_cd').mean().reset_index()\n",
    "corr_df=pd.merge(corr_df,stock_df,on='tck_iem_cd',how='inner')"
   ]
  },
  {
   "cell_type": "code",
   "execution_count": null,
   "id": "df855a3b",
   "metadata": {},
   "outputs": [],
   "source": [
    "import seaborn as sns\n",
    "import matplotlib.pyplot as plt\n",
    "\n",
    "corr_df.drop('tck_iem_cd',axis=1,inplace=True)\n",
    "corr_mat=corr_df.corr()\n",
    "mask = np.triu(np.ones_like(corr_mat, dtype=bool))\n",
    "sns.heatmap(corr_mat, annot=False, mask=mask, cmap='coolwarm',fmt='.2f')\n",
    "plt.title('Correlation Plot')"
   ]
  }
 ],
 "metadata": {
  "kernelspec": {
   "display_name": "Python 3 (ipykernel)",
   "language": "python",
   "name": "python3"
  },
  "language_info": {
   "codemirror_mode": {
    "name": "ipython",
    "version": 3
   },
   "file_extension": ".py",
   "mimetype": "text/x-python",
   "name": "python",
   "nbconvert_exporter": "python",
   "pygments_lexer": "ipython3",
   "version": "3.9.13"
  }
 },
 "nbformat": 4,
 "nbformat_minor": 5
}
