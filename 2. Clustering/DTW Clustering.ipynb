{
 "cells": [
  {
   "cell_type": "code",
   "execution_count": null,
   "id": "0b11afe1",
   "metadata": {},
   "outputs": [],
   "source": [
    "#DTW 클러스터링\n",
    "#클러스터링에 활용할 변수 단위 차이 파악\n",
    "stock_info['daily_mov'].describe()"
   ]
  },
  {
   "cell_type": "code",
   "execution_count": null,
   "id": "2d2da65c",
   "metadata": {},
   "outputs": [],
   "source": [
    "trade_info['tot_hld_qty'].describe()"
   ]
  },
  {
   "cell_type": "code",
   "execution_count": null,
   "id": "d7fdcff8",
   "metadata": {},
   "outputs": [],
   "source": [
    "trade_info['pft_ivo_rt'].describe()"
   ]
  },
  {
   "cell_type": "code",
   "execution_count": null,
   "id": "d4463f5b",
   "metadata": {},
   "outputs": [],
   "source": [
    "#총보유수량이 다른 변수에 비해 단위 차이가 큰 것을 확인, 단위 차이를 유사한 수준으로 조정해주기 위해 로그 변환 진행\n",
    "trade_info['tot_hld_qty_lg']=np.log1p(trade_info['tot_hld_qty'])"
   ]
  },
  {
   "cell_type": "code",
   "execution_count": null,
   "id": "928216bb",
   "metadata": {},
   "outputs": [],
   "source": [
    "#클러스터 분석을 위해 피벗테이블 형태로 변환\n",
    "stock1 =trade_info.pivot(index='bse_dt', columns='tck_iem_cd', values='pft_ivo_rt')\n",
    "stock2 =stock_info.pivot(index='bse_dt', columns='tck_iem_cd', values='daily_mov')\n",
    "stock3 =trade_info.pivot(index='bse_dt', columns='tck_iem_cd', values='tot_hld_qty_lg')"
   ]
  },
  {
   "cell_type": "code",
   "execution_count": null,
   "id": "4e3662bd",
   "metadata": {},
   "outputs": [],
   "source": [
    "stocks = [stock1, stock2, stock3]"
   ]
  },
  {
   "cell_type": "code",
   "execution_count": null,
   "id": "d1a36439",
   "metadata": {},
   "outputs": [],
   "source": [
    "#노이즈를 제거하기 위해 5일기준 이동평균의 값을 이용\n",
    "stock=trade_info[['tck_iem_cd','bse_dt','tot_hld_qty','pft_ivo_rt']]\n",
    "stock=pd.merge(stock,stock_info[['tck_iem_cd','bse_dt','daily_mov']],on=['bse_dt','tck_iem_cd'],how='inner')\n",
    "\n",
    "x_list = stock['tck_iem_cd'].unique()\n",
    "\n",
    "for var in stocks:\n",
    "    for stock in x_list:\n",
    "        var[stock] = var[stock].rolling(window=5).mean()\n",
    "    var.dropna(inplace=True)"
   ]
  },
  {
   "cell_type": "code",
   "execution_count": null,
   "id": "1e614659",
   "metadata": {},
   "outputs": [],
   "source": [
    "#결측치 확인\n",
    "stocks = [stock1,stock2, stock3]\n",
    "\n",
    "for i, stock in enumerate(stocks, 1):\n",
    "    print(f\"Missing values in stock{i}:\")\n",
    "    print(stock.isna().sum().sum())\n",
    "    print()"
   ]
  },
  {
   "cell_type": "code",
   "execution_count": null,
   "id": "944c5c90",
   "metadata": {},
   "outputs": [],
   "source": [
    "#정규화 진행\n",
    "from sklearn.preprocessing import MinMaxScaler\n",
    "scaler = MinMaxScaler()\n",
    "scaled1 = scaler.fit_transform(stock1.T)\n",
    "scaled2 = scaler.fit_transform(stock2.T)\n",
    "scaled3 = scaler.fit_transform(stock3.T)"
   ]
  },
  {
   "cell_type": "code",
   "execution_count": null,
   "id": "66d49bb6",
   "metadata": {},
   "outputs": [],
   "source": [
    "#종합 데이터셋 생성\n",
    "scaled_total = np.dstack([scaled1, scaled2, scaled3])"
   ]
  },
  {
   "cell_type": "code",
   "execution_count": null,
   "id": "c30631b6",
   "metadata": {},
   "outputs": [],
   "source": [
    "from tslearn.clustering import TimeSeriesKMeans\n",
    "from sklearn.metrics import silhouette_score"
   ]
  },
  {
   "cell_type": "code",
   "execution_count": null,
   "id": "3512152d",
   "metadata": {},
   "outputs": [],
   "source": [
    "# 실루엣 점수 계산 함수 정의\n",
    "def calculate_dtw_clusters(data, min_clusters, max_clusters):\n",
    "    wcss = []  \n",
    "    silhouette_scores = [] \n",
    "    for n_clusters in range(min_clusters, max_clusters + 1):\n",
    "        km_dtw = TimeSeriesKMeans(n_clusters=n_clusters, metric=\"dtw\", random_state=31, n_jobs=-1)\n",
    "        cluster_labels = km_dtw.fit_predict(data)\n",
    "        wcss.append(km_dtw.inertia_)\n",
    "        sil_score = silhouette_score(data.reshape(data.shape[0], -1), cluster_labels)\n",
    "        silhouette_scores.append(sil_score)\n",
    "    return wcss, silhouette_scores"
   ]
  },
  {
   "cell_type": "code",
   "execution_count": null,
   "id": "d91a64ec",
   "metadata": {},
   "outputs": [],
   "source": [
    "#WCSS 기반 Elbow Point Plot 함수 정의\n",
    "def plot_elbow_silhouette(wcss, min_clusters, max_clusters):\n",
    "    x = range(min_clusters, max_clusters + 1)\n",
    "    plt.figure(figsize=(12, 6))\n",
    "    plt.plot(x, wcss, marker='o')\n",
    "    plt.title('Elbow Method (WCSS)')\n",
    "    plt.xlabel('Number of clusters')\n",
    "    plt.ylabel('WCSS')\n",
    "    plt.tight_layout()\n",
    "    plt.show()"
   ]
  },
  {
   "cell_type": "code",
   "execution_count": null,
   "id": "b72b922d",
   "metadata": {},
   "outputs": [],
   "source": [
    "# 최소/최대 군집 개수 설정\n",
    "min_clusters = 2\n",
    "max_clusters = 10\n",
    "\n",
    "#클러스터 실행\n",
    "wcss, silhouette_scores = calculate_dtw_clusters(scaled_total, min_clusters, max_clusters)"
   ]
  },
  {
   "cell_type": "code",
   "execution_count": null,
   "id": "e6785962",
   "metadata": {},
   "outputs": [],
   "source": [
    "#실루엣계수 확인\n",
    "silhouette_scores"
   ]
  },
  {
   "cell_type": "code",
   "execution_count": null,
   "id": "0932c015",
   "metadata": {},
   "outputs": [],
   "source": [
    "#WCSS 확인\n",
    "wcss"
   ]
  },
  {
   "cell_type": "code",
   "execution_count": null,
   "id": "6545cfe6",
   "metadata": {},
   "outputs": [],
   "source": [
    "#Elbow point 확인\n",
    "plot_elbow_silhouette(wcss, 2, 10)"
   ]
  },
  {
   "cell_type": "code",
   "execution_count": null,
   "id": "da4224ae",
   "metadata": {},
   "outputs": [],
   "source": [
    "#5개 클러스터로 최종 클러스터링 진행\n",
    "n_clusters = 5\n",
    "km_dtw = TimeSeriesKMeans(n_clusters=n_clusters, metric=\"dtw\", random_state=31, n_jobs=-1)\n",
    "cluster_labels = km_dtw.fit_predict(scaled_total)"
   ]
  },
  {
   "cell_type": "code",
   "execution_count": null,
   "id": "3cdf68e8",
   "metadata": {},
   "outputs": [],
   "source": [
    "#클러스터 안에 포함된 주식 종목 개수 확인\n",
    "for i in range(n_clusters):\n",
    "    print(f\"Cluster {i}: {len(np.where(cluster_labels == i)[0])}\")"
   ]
  },
  {
   "cell_type": "code",
   "execution_count": null,
   "id": "568c4d68",
   "metadata": {},
   "outputs": [],
   "source": [
    "#클러스터링 결과 데이터셋 생성\n",
    "result=pd.DataFrame(cluster_labels)\n",
    "result.columns=['cluster']"
   ]
  },
  {
   "cell_type": "code",
   "execution_count": null,
   "id": "ed4288df",
   "metadata": {},
   "outputs": [],
   "source": [
    "stock_nm=pd.DataFrame(stock_info['tck_iem_cd'].unique())\n",
    "stock_nm.columns=['tck_iem_cd']"
   ]
  },
  {
   "cell_type": "code",
   "execution_count": null,
   "id": "8416e93d",
   "metadata": {},
   "outputs": [],
   "source": [
    "result=pd.concat([stock_nm,result],axis=1)"
   ]
  },
  {
   "cell_type": "code",
   "execution_count": null,
   "id": "6e5ffec7",
   "metadata": {},
   "outputs": [],
   "source": [
    "#대시보드(시각화)에 사용할 데이터 추출\n",
    "stock_info=stock_info[['tck_iem_cd','bse_dt','daily_mov']]\n",
    "trade_info=trade_info[['tck_iem_cd','bse_dt','tot_hld_qty','pft_ivo_rt']]\n",
    "info_df=pd.merge(stock_info,trade_info,how='inner',on=['tck_iem_cd','bse_dt'])\n",
    "result.to_excel('result of clusters.xlsx', encoding='cp949', index=False)\n",
    "info_df.to_excel('information of stocks.xlsx',encoding='cp949',index=False)"
   ]
  }
 ],
 "metadata": {
  "kernelspec": {
   "display_name": "Python 3 (ipykernel)",
   "language": "python",
   "name": "python3"
  },
  "language_info": {
   "codemirror_mode": {
    "name": "ipython",
    "version": 3
   },
   "file_extension": ".py",
   "mimetype": "text/x-python",
   "name": "python",
   "nbconvert_exporter": "python",
   "pygments_lexer": "ipython3",
   "version": "3.9.13"
  }
 },
 "nbformat": 4,
 "nbformat_minor": 5
}
